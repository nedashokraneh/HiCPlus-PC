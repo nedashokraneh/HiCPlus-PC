{
 "cells": [
  {
   "cell_type": "code",
   "execution_count": 2,
   "metadata": {},
   "outputs": [],
   "source": [
    "import numpy as np\n",
    "low_res_frames = np.load(\"../data/divided-data/GM12878_primary/10kb_resolution/chr18-22(down16).npy\")\n",
    "enhanced_frames = np.load(\"../data/enhanced-data/GM12878_primary_enhanced_chr18-22.npy\")\n"
   ]
  },
  {
   "cell_type": "code",
   "execution_count": 5,
   "metadata": {},
   "outputs": [],
   "source": [
    "import matplotlib.pyplot as plt\n",
    "fig, axs = plt.subplots(16,2,figsize=(80,80))\n",
    "plt.subplots_adjust(hspace = .1, wspace=.1)\n",
    "axs = axs.ravel()\n",
    "for i in range(16):\n",
    "    axs[2*i].matshow(low_res_frames[i,:,:], cmap='YlOrRd')\n",
    "    axs[2*i+1].matshow(enhanced_frames[i,:,:], cmap='YlOrRd')\n",
    "    "
   ]
  },
  {
   "cell_type": "code",
   "execution_count": 36,
   "metadata": {},
   "outputs": [
    {
     "data": {
      "text/plain": [
       "'module://ipykernel.pylab.backend_inline'"
      ]
     },
     "execution_count": 36,
     "metadata": {},
     "output_type": "execute_result"
    }
   ],
   "source": [
    "plt.get_backend()"
   ]
  },
  {
   "cell_type": "code",
   "execution_count": null,
   "metadata": {},
   "outputs": [],
   "source": []
  }
 ],
 "metadata": {
  "kernelspec": {
   "display_name": "Python 3",
   "language": "python",
   "name": "python3"
  },
  "language_info": {
   "codemirror_mode": {
    "name": "ipython",
    "version": 3
   },
   "file_extension": ".py",
   "mimetype": "text/x-python",
   "name": "python",
   "nbconvert_exporter": "python",
   "pygments_lexer": "ipython3",
   "version": "3.7.3"
  }
 },
 "nbformat": 4,
 "nbformat_minor": 2
}
