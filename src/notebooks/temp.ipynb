{
 "cells": [
  {
   "cell_type": "code",
   "execution_count": 26,
   "metadata": {},
   "outputs": [],
   "source": [
    "import os\n",
    "import sys\n",
    "#dir_path = os.path.dirname(os.path.realpath(__file__))\n",
    "dir_path = \"/Users/neda/HiCPlus_pytorch/src\"\n",
    "model_path = dir_path + \"/models\"\n",
    "utils_path = dir_path + \"/utils\"\n",
    "sys.path.insert(0, model_path)\n",
    "sys.path.insert(0, utils_path)\n",
    "import model2\n",
    "import utils\n",
    "\n",
    "import numpy as np\n",
    "import matplotlib.pyplot as plt\n",
    "import pickle\n",
    "import gzip\n",
    "from torch.utils import data\n",
    "import torch\n",
    "import torch.optim as optim\n",
    "from torch.autograd import Variable\n",
    "from time import gmtime, strftime\n",
    "import torch.nn as nn\n",
    "from scipy.stats.stats import pearsonr\n",
    "import argparse\n",
    "import cooler\n",
    "\n",
    "\n",
    "args = {\"low_res_cool_path\": \"/Users/neda/prostate-samples/PCa13266.multi-res.cool\"\n",
    "       , \"high_res_cool_path\": \"/Users/neda/prostate-samples/HighRes-PCa13266.multi-res.cool\"\n",
    "       , \"output_path\": \"/Users/neda/prostate-samples/PCa13266-down/\"\n",
    "       , \"model_path\": \"/Users/neda/HiCPlus_pytorch/src/learned-networks\"\n",
    "       , \"resolution\": \"10000\"\n",
    "       , \"model_name\": \"chr1-17-PCa13266(up-wo-min)\"\n",
    "       , \"chrN_min\": \"1\"\n",
    "       , \"chrN_max\": \"17\"\n",
    "       , \"frames_data_path\": \"/Users/neda/prostate-samples/divided-data\"\n",
    "       , \"sample_name\": \"PCa13266\"}\n",
    "\n",
    "high_res_cool = cooler.Cooler(args['high_res_cool_path'] + '::/resolutions/' + str(args['resolution']))\n",
    "p = high_res_cool.pixels()\n",
    "total_num_reads = sum(p[:,].iloc[:,2])\n",
    "low_res_cool = cooler.Cooler(args['low_res_cool_path'] + '::/resolutions/' + str(args['resolution']))\n",
    "p2 = low_res_cool.pixels()\n",
    "low_total_num_reads = sum(p2[:,].iloc[:,2])\n",
    "\n",
    "# Obs1: when we fetch a specific chromosome it means first columns belong to regions in that chromosome but\n",
    "# second column regions are through whole genome\n",
    "# Obs2: reads are not considered twice in files, for example when we fetch chr2 pixels, there are not interactions\n",
    "# between chr2 and chr1 any more.\n",
    "# Obs3: number of intra reads: 125015861, whole reads: 153752070 (in low resolution sample)\n",
    "\n",
    "vec_of_prob = []\n",
    "for chrName in high_res_cool.chromnames:\n",
    "    vec_of_prob.extend(high_res_cool.matrix(balance = False, as_pixels = True).fetch(chrName).iloc[:,2])\n",
    "num_inter_reads = total_num_reads - sum(vec_of_prob)\n",
    "vec_of_prob.append(num_inter_reads)\n",
    "vec_of_prob = [p/total_num_reads for p in vec_of_prob]\n",
    "down_sampled_counts = np.random.multinomial(low_total_num_reads, vec_of_prob)"
   ]
  },
  {
   "cell_type": "code",
   "execution_count": 28,
   "metadata": {},
   "outputs": [
    {
     "data": {
      "text/plain": [
       "array([0, 0, 1, 0, 0, 0, 0, 0, 0, 0])"
      ]
     },
     "execution_count": 28,
     "metadata": {},
     "output_type": "execute_result"
    }
   ],
   "source": [
    "\n",
    "down_sampled_counts[0:10,]"
   ]
  },
  {
   "cell_type": "code",
   "execution_count": 35,
   "metadata": {},
   "outputs": [
    {
     "data": {
      "text/plain": [
       "[1.3615334263679109e-09,\n",
       " 1.3615334263679109e-09,\n",
       " 1.3615334263679109e-09,\n",
       " 2.7230668527358217e-09,\n",
       " 1.3615334263679109e-09,\n",
       " 1.3615334263679109e-09,\n",
       " 1.3615334263679109e-09,\n",
       " 1.3615334263679109e-09,\n",
       " 1.3615334263679109e-09,\n",
       " 4.0846002791037326e-09]"
      ]
     },
     "execution_count": 35,
     "metadata": {},
     "output_type": "execute_result"
    }
   ],
   "source": [
    "vec_of_prob[0:10]"
   ]
  },
  {
   "cell_type": "code",
   "execution_count": 5,
   "metadata": {},
   "outputs": [
    {
     "ename": "SyntaxError",
     "evalue": "invalid syntax (<ipython-input-5-6d44ab1fb44a>, line 3)",
     "output_type": "error",
     "traceback": [
      "\u001b[0;36m  File \u001b[0;32m\"<ipython-input-5-6d44ab1fb44a>\"\u001b[0;36m, line \u001b[0;32m3\u001b[0m\n\u001b[0;31m    import numpy as nphigh_res_cool.matrix(balance = False, as_pixels = True).fetch(\"chr1\").iloc[1000:1100]\u001b[0m\n\u001b[0m                                   ^\u001b[0m\n\u001b[0;31mSyntaxError\u001b[0m\u001b[0;31m:\u001b[0m invalid syntax\n"
     ]
    }
   ],
   "source": [
    "import cooler\n",
    "#high_res_cool = cooler.Cooler(\"/Users/neda/prostate-samples/HighRes-PCa13266.multi-res.cool::/resolutions/10000\")\n",
    "import numpy as nphigh_res_cool.matrix(balance = False, as_pixels = True).fetch(\"chr1\").iloc[1000:1100]"
   ]
  },
  {
   "cell_type": "code",
   "execution_count": 7,
   "metadata": {},
   "outputs": [],
   "source": [
    "\n",
    "import numpy as np\n",
    "a = np.zeros([2,3])\n",
    "a[0,1] = 2"
   ]
  },
  {
   "cell_type": "code",
   "execution_count": 11,
   "metadata": {},
   "outputs": [
    {
     "data": {
      "text/plain": [
       "bin1_id        75\n",
       "bin2_id    187799\n",
       "count           1\n",
       "Name: 1398, dtype: int64"
      ]
     },
     "execution_count": 11,
     "metadata": {},
     "output_type": "execute_result"
    }
   ],
   "source": [
    "import cooler\n",
    "c = cooler.Cooler('/Users/neda/prostate-samples/PCa13266.multi-res.cool::/resolutions/10000')\n",
    "c.pixels()[:,].loc[1398]"
   ]
  },
  {
   "cell_type": "code",
   "execution_count": 12,
   "metadata": {},
   "outputs": [
    {
     "name": "stdout",
     "output_type": "stream",
     "text": [
      "1 4\n",
      "2 5\n",
      "3 6\n"
     ]
    }
   ],
   "source": [
    "for (i,j) in zip([1,2,3],[4,5,6,7]):\n",
    "    print(i,j)"
   ]
  },
  {
   "cell_type": "code",
   "execution_count": 3,
   "metadata": {},
   "outputs": [
    {
     "data": {
      "text/plain": [
       "['salam']"
      ]
     },
     "execution_count": 3,
     "metadata": {},
     "output_type": "execute_result"
    }
   ],
   "source": [
    "[f for f in [\"salam\", \".sa\", \"salam.npy\"] if (not f.startswith('.')) & (not f.endswith('.npy'))]"
   ]
  },
  {
   "cell_type": "code",
   "execution_count": null,
   "metadata": {},
   "outputs": [],
   "source": []
  }
 ],
 "metadata": {
  "kernelspec": {
   "display_name": "Python 3",
   "language": "python",
   "name": "python3"
  },
  "language_info": {
   "codemirror_mode": {
    "name": "ipython",
    "version": 3
   },
   "file_extension": ".py",
   "mimetype": "text/x-python",
   "name": "python",
   "nbconvert_exporter": "python",
   "pygments_lexer": "ipython3",
   "version": "3.7.3"
  }
 },
 "nbformat": 4,
 "nbformat_minor": 2
}
