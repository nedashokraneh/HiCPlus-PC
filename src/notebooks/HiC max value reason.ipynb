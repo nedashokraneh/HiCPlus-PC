{
 "cells": [
  {
   "cell_type": "code",
   "execution_count": 48,
   "metadata": {},
   "outputs": [],
   "source": [
    "import os\n",
    "import sys\n",
    "\n",
    "model_path = \"/Users/neda/HiCPlus_pytorch/src/models\"\n",
    "sys.path.insert(0, model_path)\n",
    "import model\n",
    "\n",
    "import numpy as np\n",
    "import matplotlib.pyplot as plt\n",
    "import pickle\n",
    "import gzip\n",
    "from torch.utils import data\n",
    "import torch\n",
    "import torch.optim as optim\n",
    "from torch.autograd import Variable\n",
    "from time import gmtime, strftime\n",
    "import torch.nn as nn\n",
    "from scipy.stats.stats import pearsonr\n",
    "import argparse\n",
    "use_gpu = 0\n",
    "down_sample_ratio = 16\n",
    "epochs = 30\n",
    "HiC_max_value = 100 # ?????\n",
    "batch_size = 256\n",
    "\n",
    "def corr_highVSlow(index,data1,data2):\n",
    "    return pearsonr(data1[index,0,:,:].flatten(),data2[index,0,:,:].flatten())[0]"
   ]
  },
  {
   "cell_type": "code",
   "execution_count": 53,
   "metadata": {},
   "outputs": [],
   "source": [
    "indices = np.load(\"/Users/neda/HiCPlus_pytorch/data/divided-data/GM12878_primary/10kb_resolution/chr1-17-index.npy\", \"r\")\n",
    "indices = indices[:,1:4].astype(\"int64\")"
   ]
  },
  {
   "cell_type": "code",
   "execution_count": 50,
   "metadata": {},
   "outputs": [],
   "source": [
    "def d_indices(d):\n",
    "    return np.where(indices[:,1] + d == indices[:,2])"
   ]
  },
  {
   "cell_type": "code",
   "execution_count": 103,
   "metadata": {},
   "outputs": [
    {
     "data": {
      "image/png": "[encoded data removed]",
      "text/plain": [
       "<Figure size 432x288 with 1 Axes>"
      ]
     },
     "metadata": {
      "needs_background": "light"
     },
     "output_type": "display_data"
    }
   ],
   "source": [
    "# mean of correlation based on location of frames responding to diagonal of matrix\n",
    "mean_int = {}\n",
    "for i in range(-200,201,25):\n",
    "    mean_int[i] = []\n",
    "    for j in d_indices(i)[0]:\n",
    "        mean_int[i].append(np.mean(low_resolution_samples[j,]))  \n",
    "corr_list = {}\n",
    "for i in range(-200,201,25):\n",
    "    corr_list[i] = []\n",
    "    for j in d_indices(i)[0]:\n",
    "        if np.sum(low_resolution_samples[j,:,:]) != 0 and np.sum(high_resolution_samples[j,:,:]) != 0:\n",
    "            corr_list[i].append(pearsonr(low_resolution_samples[j,0,:,:].flatten(),high_resolution_samples[j,0,:,:].flatten())[0]) \n",
    "mean_corr_list = [np.mean(corr_list[i]) for i in range(-200,201,25)]\n",
    "import matplotlib.pyplot as plt\n",
    "plt.scatter(range(-200,201,25), mean_corr_list)\n",
    "plt.show()"
   ]
  },
  {
   "cell_type": "code",
   "execution_count": 41,
   "metadata": {},
   "outputs": [],
   "source": [
    "# defining network\n",
    "\n",
    "Net = model.Net(40, 28)\n",
    "if use_gpu:\n",
    "    Net = Net.cuda()\n",
    "\n",
    "optimizer = optim.SGD(Net.parameters(), lr = 0.00001)\n",
    "_loss = nn.MSELoss()\n",
    "Net.train()\n",
    "\n",
    "running_loss = 0.0\n",
    "losslist = []"
   ]
  },
  {
   "cell_type": "code",
   "execution_count": 56,
   "metadata": {},
   "outputs": [],
   "source": [
    "# defining training data\n",
    "\n",
    "low_resolution_samples = np.load(\"/Users/neda/HiCPlus_pytorch/data/divided-data/GM12878_primary/10kb_resolution/chr1-17(down16).npy\", \"r\").astype(np.float32) * down_sample_ratio\n",
    "low_resolution_samples = np.expand_dims(low_resolution_samples, axis=1)\n",
    "high_resolution_samples = np.load(\"/Users/neda/HiCPlus_pytorch/data/divided-data/GM12878_primary/10kb_resolution/chr1-17.npy\", \"r\").astype(np.float32)\n",
    "high_resolution_samples = np.expand_dims(high_resolution_samples, axis=1)\n",
    "#high_resolution_samples = high_resolution_samples[d_indices(50)[0],:,:,:]\n",
    "#low_resolution_samples = low_resolution_samples[d_indices(50)[0],:,:,:]\n",
    "sample_size = high_resolution_samples.shape[-1]\n",
    "half_padding = int(model.half_padding)\n",
    "high_resolution_samples = np.minimum(high_resolution_samples, HiC_max_value)\n",
    "low_resolution_samples = np.minimum(low_resolution_samples, HiC_max_value)\n",
    "high_resolution_samples = high_resolution_samples[:,:,half_padding:(sample_size-half_padding),half_padding:(sample_size-half_padding)]\n",
    "lowres_set = data.TensorDataset(torch.from_numpy(low_resolution_samples), torch.from_numpy(np.zeros(low_resolution_samples.shape[0])))\n",
    "lowres_loader = torch.utils.data.DataLoader(lowres_set, batch_size=batch_size, shuffle=False)\n",
    "\n",
    "hires_set = data.TensorDataset(torch.from_numpy(high_resolution_samples), torch.from_numpy(np.zeros(high_resolution_samples.shape[0])))\n",
    "hires_loader = torch.utils.data.DataLoader(hires_set, batch_size=batch_size, shuffle=False)"
   ]
  },
  {
   "cell_type": "code",
   "execution_count": null,
   "metadata": {},
   "outputs": [
    {
     "name": "stdout",
     "output_type": "stream",
     "text": [
      "------- 679 0 833.4726020390927 2019-06-28 17:54:46\n",
      "------- 679 1 642.8925025765078 2019-06-28 17:55:27\n",
      "------- 679 2 642.8925025765078 2019-06-28 17:56:08\n",
      "------- 679 3 642.8925025765078 2019-06-28 17:56:51\n",
      "------- 679 4 642.8925025765078 2019-06-28 17:57:32\n",
      "------- 679 5 642.8925025765078 2019-06-28 17:58:15\n",
      "------- 679 6 642.8925025765078 2019-06-28 17:59:12\n",
      "------- 679 7 642.8925025765078 2019-06-28 18:00:14\n"
     ]
    }
   ],
   "source": [
    "\n",
    "\n",
    "for epoch in range(0, epochs):\n",
    "    # iterate over two lists and their indices using enumerate together with zip\n",
    "    # lowres_loader is list of batches\n",
    "    for i, (v1, v2) in enumerate(zip(lowres_loader, hires_loader)):\n",
    "        # probably it is for skipping last incomplete batch\n",
    "        if (i == len(lowres_loader) - 1):\n",
    "            continue\n",
    "\n",
    "\n",
    "        # v1 is list with length = 2. v1[0] is data tensor so with shape 256*1*40*40. v1[1] is vector of 256 zeros because pf line 85 but what's the reason?\n",
    "        _lowRes, _ = v1\n",
    "        _highRes, _ = v2\n",
    "        # print \"_lowres:\", _lowRes, \"\\n shape: \", _lowRes.shape\n",
    "\n",
    "        _lowRes = Variable(_lowRes)\n",
    "        _highRes = Variable(_highRes)\n",
    "\n",
    "\n",
    "        if use_gpu:\n",
    "            _lowRes = _lowRes.cuda()\n",
    "            _highRes = _highRes.cuda()\n",
    "        optimizer.zero_grad()\n",
    "        y_prediction = Net(_lowRes)\n",
    "        loss = _loss(y_prediction, _highRes)\n",
    "        loss.backward()\n",
    "        optimizer.step()\n",
    "        #print(loss.item())\n",
    "        running_loss += loss.item()\n",
    "\n",
    "    print ('-------', i, epoch, running_loss/i, strftime(\"%Y-%m-%d %H:%M:%S\", gmtime()))\n",
    "    losslist.append(running_loss/i)\n",
    "    running_loss = 0.0"
   ]
  },
  {
   "cell_type": "code",
   "execution_count": null,
   "metadata": {},
   "outputs": [],
   "source": []
  },
  {
   "cell_type": "code",
   "execution_count": null,
   "metadata": {},
   "outputs": [],
   "source": []
  }
 ],
 "metadata": {
  "kernelspec": {
   "display_name": "Python 3",
   "language": "python",
   "name": "python3"
  }
 },
 "nbformat": 4,
 "nbformat_minor": 2
}
