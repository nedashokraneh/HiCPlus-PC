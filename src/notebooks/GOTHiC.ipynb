{
 "cells": [
  {
   "cell_type": "code",
   "execution_count": 1,
   "metadata": {},
   "outputs": [],
   "source": [
    "import cooler\n",
    "import numpy as np\n",
    "import scipy\n",
    "from scipy import stats\n",
    "import pandas as pd\n",
    "import matplotlib.pyplot as plt\n",
    "\n",
    "resolution = 10000\n",
    "\n",
    "c = cooler.Cooler('/Users/neda/prostate-samples/PCa13266.multi-res.cool::/resolutions/10000')\n",
    "total_num_reads = sum(c.pixels()[:,].iloc[:,2])\n",
    "bin_names = c.bins()[:,]\n",
    "\n",
    "\n"
   ]
  },
  {
   "cell_type": "code",
   "execution_count": 2,
   "metadata": {},
   "outputs": [],
   "source": [
    "def interaction_spurious_prob(chr_name1, region1, chr_name2, region2):\n",
    "    first_bin_num = bin_names[bin_names.chrom == chr_name1].iloc[int(region1/resolution)].name\n",
    "    second_bin_num = bin_names[bin_names.chrom == chr_name2].iloc[int(region2/resolution)].name\n",
    "    region1_reads = np.sum(c.matrix(balance = False)[first_bin_num,])\n",
    "    region2_reads = np.sum(c.matrix(balance = False)[second_bin_num,])\n",
    "    ri = region1_reads / (2*total_num_reads)\n",
    "    rj = region2_reads / (2*total_num_reads)\n",
    "    random_prob = 2 * ri * rj\n",
    "    num_int = c.matrix(balance = False)[first_bin_num, second_bin_num]\n",
    "    rp = 1 - scipy.stats.binom.cdf(num_int, total_num_reads, random_prob)\n",
    "    return (rp)\n",
    "    \n",
    "# *** if a region doesn't have any interaction so random_prob = 0 and rp = 0 but it doesn't show signigficant interaction"
   ]
  },
  {
   "cell_type": "code",
   "execution_count": 3,
   "metadata": {},
   "outputs": [],
   "source": [
    "chr3_TADs = pd.read_csv(\"/Users/neda/prostate-samples/PCa13266.50000bp.chr3.domains.tsv\", sep = \"\\t\")\n",
    "chr3_TADs = chr3_TADs[chr3_TADs.tag == \"domain\"]\n",
    "down_bound = chr3_TADs.loc[chr3_TADs['size'].idxmax(),'from.coord']\n",
    "up_bound = chr3_TADs.loc[chr3_TADs['size'].idxmax(),'to.coord']\n",
    "peaks = pd.read_csv(\"/Users/neda/prostate-samples/PCa13266-ChipSeq/Pca13266_summits.bed\", header = None, sep = \"\\t\"\n",
    "                   , names = ['chr_name', 'lower_bound', \"upper_bound\", \"name\", \"enrichment\"])\n",
    "f_peaks = peaks[(peaks.chr_name == \"chr3\") & (peaks.lower_bound > down_bound) & (peaks.upper_bound < up_bound)]"
   ]
  },
  {
   "cell_type": "code",
   "execution_count": 4,
   "metadata": {},
   "outputs": [],
   "source": [
    "down_bound_bin_num = bin_names[bin_names.chrom == \"chr3\"].iloc[int(down_bound/resolution)].name\n",
    "up_bound_bin_num = bin_names[bin_names.chrom == \"chr3\"].iloc[int(up_bound/resolution)].name"
   ]
  },
  {
   "cell_type": "code",
   "execution_count": 5,
   "metadata": {},
   "outputs": [],
   "source": [
    "bins_coverage = []\n",
    "for i in range(down_bound_bin_num, up_bound_bin_num+1):\n",
    "    bins_coverage.append(np.sum(c.matrix(balance = False)[i,]))"
   ]
  },
  {
   "cell_type": "code",
   "execution_count": 6,
   "metadata": {},
   "outputs": [],
   "source": [
    "domain_length = len(bins_coverage)\n",
    "prob_mat = np.zeros([domain_length,domain_length])\n",
    "for i in range(domain_length):\n",
    "    first_bin_num = down_bound_bin_num + i\n",
    "    first_bin_coverage = bins_coverage[i] / (2*total_num_reads)\n",
    "    for j in range(i,domain_length):\n",
    "        second_bin_num = down_bound_bin_num + j\n",
    "        second_bin_coverage = bins_coverage[j] / (2*total_num_reads)\n",
    "        random_prob = 2 * first_bin_coverage * second_bin_coverage\n",
    "        num_int = c.matrix(balance = False)[first_bin_num,second_bin_num]\n",
    "        rp = 1 - scipy.stats.binom.cdf(num_int, total_num_reads, random_prob)\n",
    "        prob_mat[i,j] = rp\n"
   ]
  },
  {
   "cell_type": "code",
   "execution_count": 50,
   "metadata": {},
   "outputs": [
    {
     "data": {
      "text/plain": [
       "array([1.11022302e-16, 1.11022302e-16, 9.86497073e-09, 1.75415238e-14,\n",
       "       9.35518028e-06, 3.43395021e-03, 1.37883926e-08, 6.68719169e-09,\n",
       "       4.47322312e-03, 4.27550052e-03])"
      ]
     },
     "execution_count": 50,
     "metadata": {},
     "output_type": "execute_result"
    }
   ],
   "source": [
    "prob_mat[10,10:20]\n",
    "plt.plot(bins_coverage)\n",
    "plt.show()"
   ]
  },
  {
   "cell_type": "code",
   "execution_count": 52,
   "metadata": {},
   "outputs": [],
   "source": [
    "def vec_of_dist(matrix, x):\n",
    "    return([matrix[i,i+x] for i in range(matrix.shape[1]-x)])\n",
    "rand_prob_per_dist = []\n",
    "for i in range(domain_length):\n",
    "    rand_prob_per_dist.append(np.mean(vec_of_dist(prob_mat,i)))"
   ]
  },
  {
   "cell_type": "code",
   "execution_count": 65,
   "metadata": {},
   "outputs": [],
   "source": [
    "peaks_loc = f_peaks['lower_bound'].tolist()\n",
    "peaks_index = [int((p-down_bound)/resolution) for p in peaks_loc]"
   ]
  },
  {
   "cell_type": "code",
   "execution_count": 67,
   "metadata": {},
   "outputs": [
    {
     "data": {
      "image/png": "[encoded data removed]",
      "text/plain": [
       "<Figure size 432x288 with 1 Axes>"
      ]
     },
     "metadata": {
      "needs_background": "light"
     },
     "output_type": "display_data"
    }
   ],
   "source": [
    "plt.plot(rand_prob_per_dist)\n",
    "for i in range(len(peaks_index)):\n",
    "    for j in range(i, len(peaks_index)):\n",
    "        plt.plot(peaks_index[j]-peaks_index[i], prob_mat[peaks_index[i],peaks_index[j]], marker='o', markersize=3, color=\"red\")\n",
    "plt.show() "
   ]
  },
  {
   "cell_type": "code",
   "execution_count": 68,
   "metadata": {},
   "outputs": [
    {
     "name": "stdout",
     "output_type": "stream",
     "text": [
      "1.1102230246251565e-16\n",
      "1.1102230246251565e-16\n",
      "1.0060538690237486e-05\n",
      "1.0060538690237486e-05\n",
      "1.1102230246251565e-16\n",
      "1.0060538690237486e-05\n",
      "1.0060538690237486e-05\n",
      "1.1102230246251565e-16\n",
      "1.1102230246251565e-16\n",
      "1.1102230246251565e-16\n"
     ]
    }
   ],
   "source": [
    "for i in range(len(peaks_index)):\n",
    "    for j in range(i, len(peaks_index)):\n",
    "       print(prob_mat[peaks_index[i],peaks_index[j]])\n",
    "\n"
   ]
  },
  {
   "cell_type": "code",
   "execution_count": null,
   "metadata": {},
   "outputs": [],
   "source": []
  }
 ],
 "metadata": {
  "kernelspec": {
   "display_name": "Python 3",
   "language": "python",
   "name": "python3"
  },
  "language_info": {
   "codemirror_mode": {
    "name": "ipython",
    "version": 3
   },
   "file_extension": ".py",
   "mimetype": "text/x-python",
   "name": "python",
   "nbconvert_exporter": "python",
   "pygments_lexer": "ipython3",
   "version": "3.7.3"
  }
 },
 "nbformat": 4,
 "nbformat_minor": 2
}
