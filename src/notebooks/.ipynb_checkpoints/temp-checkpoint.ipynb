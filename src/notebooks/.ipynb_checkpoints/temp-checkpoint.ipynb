{
 "cells": [
  {
   "cell_type": "code",
   "execution_count": 26,
   "metadata": {},
   "outputs": [],
   "source": [
    "import os\n",
    "import sys\n",
    "#dir_path = os.path.dirname(os.path.realpath(__file__))\n",
    "dir_path = \"/Users/neda/HiCPlus_pytorch/src\"\n",
    "model_path = dir_path + \"/models\"\n",
    "utils_path = dir_path + \"/utils\"\n",
    "sys.path.insert(0, model_path)\n",
    "sys.path.insert(0, utils_path)\n",
    "import model2\n",
    "import utils\n",
    "\n",
    "import numpy as np\n",
    "import matplotlib.pyplot as plt\n",
    "import pickle\n",
    "import gzip\n",
    "from torch.utils import data\n",
    "import torch\n",
    "import torch.optim as optim\n",
    "from torch.autograd import Variable\n",
    "from time import gmtime, strftime\n",
    "import torch.nn as nn\n",
    "from scipy.stats.stats import pearsonr\n",
    "import argparse\n",
    "import cooler\n",
    "\n",
    "\n",
    "args = {\"low_res_cool_path\": \"/Users/neda/prostate-samples/PCa13266.multi-res.cool\"\n",
    "       , \"high_res_cool_path\": \"/Users/neda/prostate-samples/HighRes-PCa13266.multi-res.cool\"\n",
    "       , \"output_path\": \"/Users/neda/prostate-samples/PCa13266-down/\"\n",
    "       , \"model_path\": \"/Users/neda/HiCPlus_pytorch/src/learned-networks\"\n",
    "       , \"resolution\": \"10000\"\n",
    "       , \"model_name\": \"chr1-17-PCa13266(up-wo-min)\"\n",
    "       , \"chrN_min\": \"1\"\n",
    "       , \"chrN_max\": \"17\"\n",
    "       , \"frames_data_path\": \"/Users/neda/prostate-samples/divided-data\"\n",
    "       , \"sample_name\": \"PCa13266\"}\n",
    "\n",
    "high_res_cool = cooler.Cooler(args['high_res_cool_path'] + '::/resolutions/' + str(args['resolution']))\n",
    "p = high_res_cool.pixels()\n",
    "total_num_reads = sum(p[:,].iloc[:,2])\n",
    "low_res_cool = cooler.Cooler(args['low_res_cool_path'] + '::/resolutions/' + str(args['resolution']))\n",
    "p2 = low_res_cool.pixels()\n",
    "low_total_num_reads = sum(p2[:,].iloc[:,2])\n",
    "\n",
    "# Obs1: when we fetch a specific chromosome it means first columns belong to regions in that chromosome but\n",
    "# second column regions are through whole genome\n",
    "# Obs2: reads are not considered twice in files, for example when we fetch chr2 pixels, there are not interactions\n",
    "# between chr2 and chr1 any more.\n",
    "# Obs3: number of intra reads: 125015861, whole reads: 153752070 (in low resolution sample)\n",
    "\n",
    "vec_of_prob = []\n",
    "for chrName in high_res_cool.chromnames:\n",
    "    vec_of_prob.extend(high_res_cool.matrix(balance = False, as_pixels = True).fetch(chrName).iloc[:,2])\n",
    "num_inter_reads = total_num_reads - sum(vec_of_prob)\n",
    "vec_of_prob.append(num_inter_reads)\n",
    "vec_of_prob = [p/total_num_reads for p in vec_of_prob]\n",
    "down_sampled_counts = np.random.multinomial(low_total_num_reads, vec_of_prob)"
   ]
  },
  {
   "cell_type": "code",
   "execution_count": 28,
   "metadata": {},
   "outputs": [
    {
     "data": {
      "text/plain": [
       "array([0, 0, 1, 0, 0, 0, 0, 0, 0, 0])"
      ]
     },
     "execution_count": 28,
     "metadata": {},
     "output_type": "execute_result"
    }
   ],
   "source": [
    "\n",
    "down_sampled_counts[0:10,]"
   ]
  },
  {
   "cell_type": "code",
   "execution_count": 35,
   "metadata": {},
   "outputs": [
    {
     "data": {
      "text/plain": [
       "[1.3615334263679109e-09,\n",
       " 1.3615334263679109e-09,\n",
       " 1.3615334263679109e-09,\n",
       " 2.7230668527358217e-09,\n",
       " 1.3615334263679109e-09,\n",
       " 1.3615334263679109e-09,\n",
       " 1.3615334263679109e-09,\n",
       " 1.3615334263679109e-09,\n",
       " 1.3615334263679109e-09,\n",
       " 4.0846002791037326e-09]"
      ]
     },
     "execution_count": 35,
     "metadata": {},
     "output_type": "execute_result"
    }
   ],
   "source": [
    "vec_of_prob[0:10]"
   ]
  },
  {
   "cell_type": "code",
   "execution_count": 32,
   "metadata": {},
   "outputs": [
    {
     "data": {
      "text/html": [
       "<div>\n",
       "<style scoped>\n",
       "    .dataframe tbody tr th:only-of-type {\n",
       "        vertical-align: middle;\n",
       "    }\n",
       "\n",
       "    .dataframe tbody tr th {\n",
       "        vertical-align: top;\n",
       "    }\n",
       "\n",
       "    .dataframe thead th {\n",
       "        text-align: right;\n",
       "    }\n",
       "</style>\n",
       "<table border=\"1\" class=\"dataframe\">\n",
       "  <thead>\n",
       "    <tr style=\"text-align: right;\">\n",
       "      <th></th>\n",
       "      <th>bin1_id</th>\n",
       "      <th>bin2_id</th>\n",
       "      <th>count</th>\n",
       "    </tr>\n",
       "  </thead>\n",
       "  <tbody>\n",
       "    <tr>\n",
       "      <th>0</th>\n",
       "      <td>24897</td>\n",
       "      <td>24897</td>\n",
       "      <td>29</td>\n",
       "    </tr>\n",
       "    <tr>\n",
       "      <th>1</th>\n",
       "      <td>24897</td>\n",
       "      <td>24898</td>\n",
       "      <td>28</td>\n",
       "    </tr>\n",
       "    <tr>\n",
       "      <th>2</th>\n",
       "      <td>24897</td>\n",
       "      <td>24899</td>\n",
       "      <td>21</td>\n",
       "    </tr>\n",
       "    <tr>\n",
       "      <th>3</th>\n",
       "      <td>24897</td>\n",
       "      <td>24900</td>\n",
       "      <td>21</td>\n",
       "    </tr>\n",
       "    <tr>\n",
       "      <th>4</th>\n",
       "      <td>24897</td>\n",
       "      <td>24901</td>\n",
       "      <td>9</td>\n",
       "    </tr>\n",
       "    <tr>\n",
       "      <th>5</th>\n",
       "      <td>24897</td>\n",
       "      <td>24902</td>\n",
       "      <td>4</td>\n",
       "    </tr>\n",
       "    <tr>\n",
       "      <th>6</th>\n",
       "      <td>24897</td>\n",
       "      <td>24903</td>\n",
       "      <td>14</td>\n",
       "    </tr>\n",
       "    <tr>\n",
       "      <th>7</th>\n",
       "      <td>24897</td>\n",
       "      <td>24904</td>\n",
       "      <td>6</td>\n",
       "    </tr>\n",
       "    <tr>\n",
       "      <th>8</th>\n",
       "      <td>24897</td>\n",
       "      <td>24905</td>\n",
       "      <td>8</td>\n",
       "    </tr>\n",
       "    <tr>\n",
       "      <th>9</th>\n",
       "      <td>24897</td>\n",
       "      <td>24906</td>\n",
       "      <td>5</td>\n",
       "    </tr>\n",
       "  </tbody>\n",
       "</table>\n",
       "</div>"
      ],
      "text/plain": [
       "   bin1_id  bin2_id  count\n",
       "0    24897    24897     29\n",
       "1    24897    24898     28\n",
       "2    24897    24899     21\n",
       "3    24897    24900     21\n",
       "4    24897    24901      9\n",
       "5    24897    24902      4\n",
       "6    24897    24903     14\n",
       "7    24897    24904      6\n",
       "8    24897    24905      8\n",
       "9    24897    24906      5"
      ]
     },
     "execution_count": 32,
     "metadata": {},
     "output_type": "execute_result"
    }
   ],
   "source": [
    "high_res_cool.matrix(balance = False, as_pixels = True).fetch(\"chr2\").iloc[0:10]"
   ]
  },
  {
   "cell_type": "code",
   "execution_count": 34,
   "metadata": {},
   "outputs": [
    {
     "data": {
      "text/plain": [
       "array([7, 5, 4, 6, 0, 0, 4, 2, 1, 1])"
      ]
     },
     "execution_count": 34,
     "metadata": {},
     "output_type": "execute_result"
    }
   ],
   "source": [
    "down_sampled_counts[16257678:16257688,]"
   ]
  },
  {
   "cell_type": "code",
   "execution_count": 37,
   "metadata": {},
   "outputs": [],
   "source": [
    "frames = np.load(\"/Users/neda/prostate-samples/divided-data/RandDown-PCa13266-chr1-17.npy\")"
   ]
  },
  {
   "cell_type": "code",
   "execution_count": 38,
   "metadata": {},
   "outputs": [],
   "source": [
    "indices = np.load(\"/Users/neda/prostate-samples/divided-data/RandDown-PCa13266-chr1-17-index.npy\")"
   ]
  },
  {
   "cell_type": "code",
   "execution_count": 43,
   "metadata": {},
   "outputs": [],
   "source": [
    "frames2 = np.load(\"/Users/neda/prostate-samples/divided-data/PCa13266-chr1-17.npy\")"
   ]
  },
  {
   "cell_type": "code",
   "execution_count": 46,
   "metadata": {},
   "outputs": [
    {
     "data": {
      "text/plain": [
       "(91872, 40, 40)"
      ]
     },
     "execution_count": 46,
     "metadata": {},
     "output_type": "execute_result"
    }
   ],
   "source": [
    "frames2.shape"
   ]
  },
  {
   "cell_type": "code",
   "execution_count": 47,
   "metadata": {},
   "outputs": [
    {
     "data": {
      "text/plain": [
       "(91872, 40, 40)"
      ]
     },
     "execution_count": 47,
     "metadata": {},
     "output_type": "execute_result"
    }
   ],
   "source": [
    "frames.shape"
   ]
  },
  {
   "cell_type": "code",
   "execution_count": 10,
   "metadata": {},
   "outputs": [
    {
     "name": "stdout",
     "output_type": "stream",
     "text": [
      "<re.Match object; span=(0, 4), match='chr1'>\n",
      "1\n"
     ]
    }
   ],
   "source": [
    "import re\n",
    "m = re.search('chr[(\\d+)(X)]', 'chr12_10kb.RAWobserved', re.IGNORECASE)\n",
    "print(m)\n",
    "print(m.group(1))"
   ]
  },
  {
   "cell_type": "code",
   "execution_count": null,
   "metadata": {},
   "outputs": [],
   "source": []
  }
 ],
 "metadata": {
  "kernelspec": {
   "display_name": "Python 3",
   "language": "python",
   "name": "python3"
  },
  "language_info": {
   "codemirror_mode": {
    "name": "ipython",
    "version": 3
   },
   "file_extension": ".py",
   "mimetype": "text/x-python",
   "name": "python",
   "nbconvert_exporter": "python",
   "pygments_lexer": "ipython3",
   "version": "3.7.3"
  }
 },
 "nbformat": 4,
 "nbformat_minor": 2
}
