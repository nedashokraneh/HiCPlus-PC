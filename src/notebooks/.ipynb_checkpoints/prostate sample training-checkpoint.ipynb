{
 "cells": [
  {
   "cell_type": "code",
   "execution_count": 1,
   "metadata": {},
   "outputs": [],
   "source": [
    "import os\n",
    "import sys\n",
    "dir_path = \"/Users/neda/HiCPlus_pytorch/src\"\n",
    "\n",
    "model_path = dir_path + \"/models\"\n",
    "utils_path = dir_path + \"/utils\"\n",
    "sys.path.insert(0, model_path)\n",
    "sys.path.insert(0, utils_path)\n",
    "import model\n",
    "import utils\n",
    "\n",
    "import numpy as np\n",
    "import matplotlib.pyplot as plt\n",
    "import pickle\n",
    "import gzip\n",
    "from torch.utils import data\n",
    "import torch\n",
    "import torch.optim as optim\n",
    "from torch.autograd import Variable\n",
    "from time import gmtime, strftime\n",
    "import torch.nn as nn\n",
    "from scipy.stats.stats import pearsonr\n",
    "import argparse\n",
    "import cooler\n",
    "\n",
    "args = {\"low_res_cool_path\": \"/Users/neda/prostate-samples/PCa13266.multi-res.cool\"\n",
    "       , \"high_res_cool_path\": \"/Users/neda/prostate-samples/HighRes-PCa13266.multi-res.cool\"\n",
    "       , \"model_path\": \"/Users/neda/HiCPlus_pytorch/src/learned-networks\"\n",
    "       , \"resolution\": \"10000\"\n",
    "       , \"model_name\": \"chr1-17-PCa13266\"\n",
    "       , \"chrN_min\": \"1\"\n",
    "       , \"chrN_max\": \"1\"\n",
    "       , \"frames_data_path\": \"/Users/neda/prostate-samples/divided-data\"\n",
    "       , \"sample_name\": \"PCa13266\"}"
   ]
  },
  {
   "cell_type": "code",
   "execution_count": 2,
   "metadata": {},
   "outputs": [],
   "source": [
    "low_res_cool = cooler.Cooler(args['low_res_cool_path'] + '::/resolutions/' + str(args['resolution']))\n",
    "high_res_cool = cooler.Cooler(args['high_res_cool_path'] + '::/resolutions/' + str(args['resolution']))\n",
    "\"\"\"\n",
    "low_COO = low_res_cool.pixels()\n",
    "low_COO = low_COO[0:low_COO.shape[0]-1,]\n",
    "low_total_num_reads = sum(low_COO.iloc[:,2])\n",
    "high_COO = high_res_cool.pixels()\n",
    "high_COO = high_COO[0:high_COO.shape[0]-1,]\n",
    "high_total_num_reads = sum(high_COO.iloc[:,2])\n",
    "down_sample_ratio = round(high_total_num_reads/low_total_num_reads)\n",
    "\"\"\"\n",
    "down_sample_ratio = 5\n",
    "use_gpu = 0\n",
    "epochs = 50\n",
    "HiC_max_value = 100\n",
    "batch_size = 256\n",
    "if os.path.exists(args['frames_data_path'] + \"/\" + args['sample_name'] + \"-chr\" + args['chrN_min'] + \"-\" + args['chrN_max'] + \".npy\"):\n",
    "    high_resolution_samples = np.load(args['frames_data_path'] + \"/\" + args['sample_name'] + \"-chr\" + args['chrN_min'] + \"-\" + args['chrN_max'] + \".npy\")\n",
    "    low_resolution_samples = np.load(args['frames_data_path'] + \"/down-\" + args['sample_name'] + \"-chr\" + args['chrN_min'] + \"-\" + args['chrN_max'] + \".npy\")\n",
    "    indices = np.load(args['frames_data_path'] + \"/\" + args['sample_name'] + \"-chr\" + args['chrN_min'] + \"-\" + args['chrN_max'] + \"-index.npy\")\n",
    "else:\n",
    "    low_resolution_samples = []\n",
    "    high_resolution_samples = []\n",
    "    indices = []\n",
    "    for i in range(int(args['chrN_min']), int(args['chrN_max']) + 1):\n",
    "        low_chr_mat = low_res_cool.matrix(balance = False).fetch(\"chr\" + str(i)).astype(float)\n",
    "        high_chr_mat = high_res_cool.matrix(balance = False).fetch(\"chr\" + str(i)).astype(float)\n",
    "        chr_frames, chr_indices = utils.divide2(low_chr_mat,i)\n",
    "        low_resolution_samples.extend(chr_frames)\n",
    "        chr_frames, chr_indices = utils.divide2(high_chr_mat,i)\n",
    "        high_resolution_samples.extend(chr_frames)\n",
    "        indices.extend(chr_indices)\n",
    "    low_resolution_samples = np.stack(low_resolution_samples, axis = 0)\n",
    "    high_resolution_samples = np.stack(high_resolution_samples, axis = 0)\n",
    "    indices = np.stack(indices, axis = 0)\n",
    "    np.save(args['frames_data_path'] + \"/\" + args['sample_name'] + \"-chr\" + args['chrN_min'] + \"-\" + args['chrN_max'] + \".npy\", high_resolution_samples)\n",
    "    np.save(args['frames_data_path'] + \"/down-\" + args['sample_name'] + \"-chr\" + args['chrN_min'] + \"-\" + args['chrN_max'] + \".npy\", low_resolution_samples)\n",
    "    np.save(args['frames_data_path'] + \"/\" + args['sample_name'] + \"-chr\" + args['chrN_min'] + \"-\" + args['chrN_max'] + \"-index.npy\", indices)\n",
    "\n"
   ]
  },
  {
   "cell_type": "code",
   "execution_count": 7,
   "metadata": {},
   "outputs": [
    {
     "name": "stdout",
     "output_type": "stream",
     "text": [
      "------- 61 0 18.22384794731243 2019-07-11 16:30:55\n",
      "------- 61 1 18.035576726447363 2019-07-11 16:30:58\n",
      "------- 61 2 17.819007526014428 2019-07-11 16:31:03\n",
      "------- 61 3 17.58342114045117 2019-07-11 16:31:06\n",
      "------- 61 4 17.330185034938278 2019-07-11 16:31:09\n",
      "------- 61 5 17.056483584715696 2019-07-11 16:31:12\n",
      "------- 61 6 16.757703280961906 2019-07-11 16:31:15\n",
      "------- 61 7 16.42859413218303 2019-07-11 16:31:18\n",
      "------- 61 8 16.06379887620445 2019-07-11 16:31:22\n",
      "------- 61 9 15.658164545160826 2019-07-11 16:31:25\n",
      "------- 61 10 15.20712631085857 2019-07-11 16:31:28\n",
      "------- 61 11 14.707127351252758 2019-07-11 16:31:31\n",
      "------- 61 12 14.156314195179549 2019-07-11 16:31:34\n",
      "------- 61 13 13.555379538018196 2019-07-11 16:31:37\n",
      "------- 61 14 12.908164508762907 2019-07-11 16:31:40\n",
      "------- 61 15 12.22218144477391 2019-07-11 16:31:44\n",
      "------- 61 16 11.508740962528792 2019-07-11 16:31:47\n",
      "------- 61 17 10.782747715711594 2019-07-11 16:31:50\n",
      "------- 61 18 10.06194007592123 2019-07-11 16:31:53\n",
      "------- 61 19 9.36542096001203 2019-07-11 16:31:56\n",
      "------- 61 20 8.711769449417709 2019-07-11 16:31:59\n",
      "------- 61 21 8.116990663966195 2019-07-11 16:32:02\n",
      "------- 61 22 7.592724087296939 2019-07-11 16:32:06\n",
      "------- 61 23 7.145108849298759 2019-07-11 16:32:09\n",
      "------- 61 24 6.774578402276899 2019-07-11 16:32:12\n",
      "------- 61 25 6.476592332613273 2019-07-11 16:32:15\n",
      "------- 61 26 6.243013805053273 2019-07-11 16:32:18\n",
      "------- 61 27 6.063762390222705 2019-07-11 16:32:21\n",
      "------- 61 28 5.928326226648737 2019-07-11 16:32:24\n",
      "------- 61 29 5.8268667449716665 2019-07-11 16:32:28\n",
      "------- 61 30 5.750886030861588 2019-07-11 16:32:31\n",
      "------- 61 31 5.693480421285161 2019-07-11 16:32:34\n",
      "------- 61 32 5.649307256839315 2019-07-11 16:32:37\n",
      "------- 61 33 5.614388828394843 2019-07-11 16:32:40\n",
      "------- 61 34 5.585855767375133 2019-07-11 16:32:44\n",
      "------- 61 35 5.561691791307731 2019-07-11 16:32:47\n",
      "------- 61 36 5.540507559893562 2019-07-11 16:32:50\n",
      "------- 61 37 5.521360438378131 2019-07-11 16:32:53\n",
      "------- 61 38 5.503619645462662 2019-07-11 16:32:56\n",
      "------- 61 39 5.486866969554151 2019-07-11 16:33:00\n",
      "------- 61 40 5.4708263170523725 2019-07-11 16:33:03\n",
      "------- 61 41 5.455316280732389 2019-07-11 16:33:06\n",
      "------- 61 42 5.4402175692261245 2019-07-11 16:33:09\n",
      "------- 61 43 5.425451711553042 2019-07-11 16:33:12\n",
      "------- 61 44 5.410965897020747 2019-07-11 16:33:16\n",
      "------- 61 45 5.396725190467522 2019-07-11 16:33:19\n",
      "------- 61 46 5.382705674796808 2019-07-11 16:33:22\n",
      "------- 61 47 5.3688897637070205 2019-07-11 16:33:25\n",
      "------- 61 48 5.355264888435114 2019-07-11 16:33:29\n",
      "------- 61 49 5.341821569888318 2019-07-11 16:33:32\n"
     ]
    },
    {
     "data": {
      "text/plain": [
       "'\\nif not os.path.exists(args[\\'model_path\\']):\\n    os.makedirs(args[\\'model_path\\'])\\ntorch.save(Net.state_dict(), args[\\'model_path\\'] + \"/\" + args[\\'model_name\\'])\\n'"
      ]
     },
     "execution_count": 7,
     "metadata": {},
     "output_type": "execute_result"
    }
   ],
   "source": [
    "\n",
    "low_resolution_samples = np.expand_dims(low_resolution_samples, axis=1)\n",
    "high_resolution_samples = np.expand_dims(high_resolution_samples, axis=1)\n",
    "#low_resolution_samples = np.minimum(HiC_max_value, low_resolution_samples)\n",
    "#high_resolution_samples = np.minimum(HiC_max_value, high_resolution_samples)\n",
    "sample_size = low_resolution_samples.shape[-1]\n",
    "lb = int(model.half_padding)\n",
    "ub = int(sample_size - model.half_padding)\n",
    "high_resolution_samples = high_resolution_samples[:,:,lb:ub,lb:ub]\n",
    "lowres_set = data.TensorDataset(torch.from_numpy(low_resolution_samples).float())\n",
    "lowres_loader = torch.utils.data.DataLoader(lowres_set, batch_size=batch_size, shuffle=False)\n",
    "hires_set = data.TensorDataset(torch.from_numpy(high_resolution_samples).float())\n",
    "hires_loader = torch.utils.data.DataLoader(hires_set, batch_size=batch_size, shuffle=False)\n",
    "\n",
    "Net = model.Net(40, 28)\n",
    "if use_gpu:\n",
    "    Net = Net.cuda()\n",
    "\n",
    "optimizer = optim.SGD(Net.parameters(), lr = 0.00001)\n",
    "_loss = nn.MSELoss()\n",
    "Net.train()\n",
    "\n",
    "running_loss = 0.0\n",
    "losslist = []\n",
    "fn = 100\n",
    "plt.matshow(low_resolution_samples[fn,0,6:34,6:34])\n",
    "# write the log file to record the training process\n",
    "log = open('HindIII_train.txt', 'w')\n",
    "for epoch in range(0, epochs):\n",
    "    for i, (v1, v2) in enumerate(zip(lowres_loader, hires_loader)):\n",
    "        if (i == len(lowres_loader) - 1):\n",
    "            continue\n",
    "        _lowRes = Variable(v1[0])\n",
    "        _highRes = Variable(v2[0])\n",
    "        if use_gpu:\n",
    "            _lowRes = _lowRes.cuda()\n",
    "            _highRes = _highRes.cuda()\n",
    "        optimizer.zero_grad()\n",
    "        y_prediction = Net(_lowRes)\n",
    "        loss = _loss(y_prediction, _highRes)\n",
    "        loss.backward()\n",
    "        optimizer.step()\n",
    "        running_loss += loss.item()\n",
    "    \n",
    "    print ('-------', i, epoch, running_loss/i, strftime(\"%Y-%m-%d %H:%M:%S\", gmtime()))\n",
    "    losslist.append(running_loss/i)\n",
    "    log.write(str(epoch) + ', ' + str(running_loss/i,) + '\\n')\n",
    "    running_loss = 0.0\n",
    "    plt.matshow(y_prediction.data.cpu().numpy()[fn,0,:,:])\n",
    "plt.matshow(high_resolution_samples[fn,0,6:34,6:34])\n",
    "\"\"\"\n",
    "if not os.path.exists(args['model_path']):\n",
    "    os.makedirs(args['model_path'])\n",
    "torch.save(Net.state_dict(), args['model_path'] + \"/\" + args['model_name'])\n",
    "\"\"\""
   ]
  },
  {
   "cell_type": "code",
   "execution_count": 15,
   "metadata": {},
   "outputs": [
    {
     "data": {
      "text/plain": [
       "<matplotlib.image.AxesImage at 0x1acb9a1240>"
      ]
     },
     "execution_count": 15,
     "metadata": {},
     "output_type": "execute_result"
    },
    {
     "data": {
      "image/png": "[encoded data removed]",
      "text/plain": [
       "<Figure size 288x288 with 1 Axes>"
      ]
     },
     "metadata": {
      "needs_background": "light"
     },
     "output_type": "display_data"
    },
    {
     "data": {
      "image/png": "[encoded data removed]",
      "text/plain": [
       "<Figure size 288x288 with 1 Axes>"
      ]
     },
     "metadata": {
      "needs_background": "light"
     },
     "output_type": "display_data"
    },
    {
     "data": {
      "image/png": "[encoded data removed]",
      "text/plain": [
       "<Figure size 288x288 with 1 Axes>"
      ]
     },
     "metadata": {
      "needs_background": "light"
     },
     "output_type": "display_data"
    }
   ],
   "source": [
    "enhanced_set = Net(Variable(torch.from_numpy(low_resolution_samples).float()))\n",
    "enhanced_set = enhanced_set.data.cpu().numpy()\n",
    "fn = 100\n",
    "plt.matshow(low_resolution_samples[fn,0,6:34,6:34])\n",
    "plt.matshow(enhanced_set[fn,0,:,:])\n",
    "plt.matshow(high_resolution_samples[fn,0,6:34,6:34])"
   ]
  },
  {
   "cell_type": "code",
   "execution_count": null,
   "metadata": {},
   "outputs": [],
   "source": []
  }
 ],
 "metadata": {
  "kernelspec": {
   "display_name": "Python 3",
   "language": "python",
   "name": "python3"
  },
  "language_info": {
   "codemirror_mode": {
    "name": "ipython",
    "version": 3
   },
   "file_extension": ".py",
   "mimetype": "text/x-python",
   "name": "python",
   "nbconvert_exporter": "python",
   "pygments_lexer": "ipython3",
   "version": "3.7.3"
  }
 },
 "nbformat": 4,
 "nbformat_minor": 2
}
