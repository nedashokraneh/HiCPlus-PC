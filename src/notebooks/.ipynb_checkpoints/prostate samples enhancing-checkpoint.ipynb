{
 "cells": [
  {
   "cell_type": "code",
   "execution_count": 74,
   "metadata": {},
   "outputs": [
    {
     "ename": "RuntimeError",
     "evalue": "Error(s) in loading state_dict for Net:\n\tsize mismatch for conv1.weight: copying a param with shape torch.Size([8, 1, 3, 3]) from checkpoint, the shape in current model is torch.Size([8, 1, 5, 5]).",
     "output_type": "error",
     "traceback": [
      "\u001b[0;31m---------------------------------------------------------------------------\u001b[0m",
      "\u001b[0;31mRuntimeError\u001b[0m                              Traceback (most recent call last)",
      "\u001b[0;32m<ipython-input-74-a1ed4bb3ecaa>\u001b[0m in \u001b[0;36m<module>\u001b[0;34m\u001b[0m\n\u001b[1;32m     34\u001b[0m        , \"resolution\": \"10000\"}\n\u001b[1;32m     35\u001b[0m \u001b[0mNet\u001b[0m \u001b[0;34m=\u001b[0m \u001b[0mmodel2\u001b[0m\u001b[0;34m.\u001b[0m\u001b[0mNet\u001b[0m\u001b[0;34m(\u001b[0m\u001b[0;36m40\u001b[0m\u001b[0;34m,\u001b[0m \u001b[0;36m36\u001b[0m\u001b[0;34m)\u001b[0m\u001b[0;34m\u001b[0m\u001b[0;34m\u001b[0m\u001b[0m\n\u001b[0;32m---> 36\u001b[0;31m \u001b[0mNet\u001b[0m\u001b[0;34m.\u001b[0m\u001b[0mload_state_dict\u001b[0m\u001b[0;34m(\u001b[0m\u001b[0mtorch\u001b[0m\u001b[0;34m.\u001b[0m\u001b[0mload\u001b[0m\u001b[0;34m(\u001b[0m\u001b[0margs\u001b[0m\u001b[0;34m[\u001b[0m\u001b[0;34m'learned_model_path'\u001b[0m\u001b[0;34m]\u001b[0m\u001b[0;34m)\u001b[0m\u001b[0;34m)\u001b[0m\u001b[0;34m\u001b[0m\u001b[0;34m\u001b[0m\u001b[0m\n\u001b[0m\u001b[1;32m     37\u001b[0m \u001b[0mNet\u001b[0m \u001b[0;34m=\u001b[0m \u001b[0mNet\u001b[0m\u001b[0;34m.\u001b[0m\u001b[0mfloat\u001b[0m\u001b[0;34m(\u001b[0m\u001b[0;34m)\u001b[0m\u001b[0;34m\u001b[0m\u001b[0;34m\u001b[0m\u001b[0m\n\u001b[1;32m     38\u001b[0m \u001b[0mcool_path\u001b[0m \u001b[0;34m=\u001b[0m \u001b[0margs\u001b[0m\u001b[0;34m[\u001b[0m\u001b[0;34m'low_res_cool_path'\u001b[0m\u001b[0;34m]\u001b[0m \u001b[0;34m+\u001b[0m \u001b[0;34m\"::/resolutions/\"\u001b[0m \u001b[0;34m+\u001b[0m \u001b[0margs\u001b[0m\u001b[0;34m[\u001b[0m\u001b[0;34m'resolution'\u001b[0m\u001b[0;34m]\u001b[0m\u001b[0;34m\u001b[0m\u001b[0;34m\u001b[0m\u001b[0m\n",
      "\u001b[0;32m~/anaconda3/lib/python3.7/site-packages/torch/nn/modules/module.py\u001b[0m in \u001b[0;36mload_state_dict\u001b[0;34m(self, state_dict, strict)\u001b[0m\n\u001b[1;32m    775\u001b[0m         \u001b[0;32mif\u001b[0m \u001b[0mlen\u001b[0m\u001b[0;34m(\u001b[0m\u001b[0merror_msgs\u001b[0m\u001b[0;34m)\u001b[0m \u001b[0;34m>\u001b[0m \u001b[0;36m0\u001b[0m\u001b[0;34m:\u001b[0m\u001b[0;34m\u001b[0m\u001b[0;34m\u001b[0m\u001b[0m\n\u001b[1;32m    776\u001b[0m             raise RuntimeError('Error(s) in loading state_dict for {}:\\n\\t{}'.format(\n\u001b[0;32m--> 777\u001b[0;31m                                self.__class__.__name__, \"\\n\\t\".join(error_msgs)))\n\u001b[0m\u001b[1;32m    778\u001b[0m         \u001b[0;32mreturn\u001b[0m \u001b[0m_IncompatibleKeys\u001b[0m\u001b[0;34m(\u001b[0m\u001b[0mmissing_keys\u001b[0m\u001b[0;34m,\u001b[0m \u001b[0munexpected_keys\u001b[0m\u001b[0;34m)\u001b[0m\u001b[0;34m\u001b[0m\u001b[0;34m\u001b[0m\u001b[0m\n\u001b[1;32m    779\u001b[0m \u001b[0;34m\u001b[0m\u001b[0m\n",
      "\u001b[0;31mRuntimeError\u001b[0m: Error(s) in loading state_dict for Net:\n\tsize mismatch for conv1.weight: copying a param with shape torch.Size([8, 1, 3, 3]) from checkpoint, the shape in current model is torch.Size([8, 1, 5, 5])."
     ]
    }
   ],
   "source": [
    "import os\n",
    "import sys\n",
    "dir_path = \"/Users/neda/HiCPlus_pytorch/src\"\n",
    "\n",
    "import numpy as np\n",
    "import argparse\n",
    "import cooler\n",
    "import matplotlib.pyplot as plt\n",
    "import torch\n",
    "from torch.autograd import Variable\n",
    "from scipy.stats.stats import pearsonr\n",
    "from scipy.stats import spearmanr\n",
    "model_path = dir_path + \"/models\"\n",
    "utils_path = dir_path + \"/utils\"\n",
    "sys.path.insert(0, model_path)\n",
    "sys.path.insert(0, utils_path)\n",
    "import model2\n",
    "import utils\n",
    "\n",
    "\"\"\"\n",
    "ap = argparse.ArgumentParser()\n",
    "ap.add_argument(\"--low_res_cool_path\", required = True, help = \"path of cool file need to be enhanced\")\n",
    "ap.add_argument(\"--high_res_cool_path\", required = True, help = \"path of high resolution cool file to compare with enhanced data if applicable\")\n",
    "ap.add_argument(\"--output_enhanced_cool_path\", help = \"path of output cool file to be saved\") #default: where the input file was\n",
    "ap.add_argument(\"--learned_model_path\", required = True, help = \"path of learned model for corresponding down sample ratio\")\n",
    "ap.add_argument(\"--resolution\", required = True, help = \"resolution size of HiC contact matrix\", default = \"10000\")\n",
    "args = vars(ap.parse_args())\n",
    "\"\"\"\n",
    "args = {\"low_res_cool_path\": \"/Users/neda/prostate-samples/PCa13266.multi-res.cool\"\n",
    "       , \"high_res_cool_path\": \"/Users/neda/prostate-samples/HighRes-PCa13266.multi-res.cool\"\n",
    "       , \"learned_model_path\": \"/Users/neda/HiCPlus_pytorch/src/learned-networks/PCa13266-res10000(up-wo-min)(rand-down)\"\n",
    "        #\"/Users/neda/HiCPlus_pytorch/src/learned-networks/down16-res10000(up-wo-min)\"\n",
    "        \n",
    "       , \"resolution\": \"10000\"}\n",
    "Net = model2.Net(40, 36)\n",
    "Net.load_state_dict(torch.load(args['learned_model_path']))\n",
    "Net = Net.float()\n",
    "cool_path = args['low_res_cool_path'] + \"::/resolutions/\" + args['resolution']\n",
    "c = cooler.Cooler(cool_path)\n",
    "high_cool_path = args['high_res_cool_path'] + \"::/resolutions/\" + args['resolution']\n",
    "c2 = cooler.Cooler(high_cool_path)\n",
    "for chrNu in [17]:\n",
    "    chrN = chrNu + 1\n",
    "    #chr_mat = c.matrix(balance = False).fetch(\"chr\" + str(chrN))\n",
    "    #chr_mat[np.isnan(chr_mat)] = 0\n",
    "    chr_mat = np.load(\"/Users/neda/prostate-samples/PCa13266-down/chr18.txt_npy_form_tmp.npy\")\n",
    "    low_resolution_samples, indices = utils.divide2(chr_mat, chrN)\n",
    "    low_resolution_samples = np.stack(low_resolution_samples, axis = 0)\n",
    "    indices = np.stack(indices, axis = 0)\n",
    "    low_resolution_samples = np.expand_dims(low_resolution_samples, axis=1)\n",
    "    lowres_set = torch.from_numpy(low_resolution_samples).float()\n",
    "    high_chr_mat = c2.matrix(balance = False).fetch(\"chr\" + str(chrN))\n",
    "    high_chr_mat[np.isnan(high_chr_mat)] = 0\n",
    "    enhanced_set = Net(Variable(lowres_set))\n",
    "    enhanced_set = enhanced_set.data.cpu().numpy()\n",
    "    enhanced_set = np.reshape(enhanced_set, (enhanced_set.shape[0], enhanced_set.shape[2], enhanced_set.shape[3]))\n",
    "    enhanced_chr_mat = c.matrix(balance = False).fetch(\"chr\" + str(chrN))\n",
    "    for i in range(indices.shape[0]):\n",
    "        x_pos = indices[i,1]\n",
    "        y_pos = indices[i,2]\n",
    "        enhanced_chr_mat[x_pos+3:x_pos+37,y_pos+3:y_pos+37] = enhanced_set[i,:,:]\n",
    "    iu = np.triu_indices(enhanced_chr_mat.shape[0],1)\n",
    "    il = (iu[1],iu[0])\n",
    "    enhanced_chr_mat[il]=enhanced_chr_mat[iu]\n",
    "    #average_chr_mat = c.matrix(balance = False).fetch(\"chr\" + str(chrN))\n",
    "    #average_chr_mat[np.isnan(average_chr_mat)] = 0\n",
    "    #chr_length = average_chr_mat.shape[0]\n",
    "    #chr_mat2 = np.zeros((chr_length+6,chr_length+6))\n",
    "    #chr_mat2[3:chr_length+3,3:chr_length+3] = chr_mat\n",
    "    #print(chr_mat2.shape)\n",
    "    #for i1 in range(chr_length):\n",
    "     #   for i2 in range(chr_length):\n",
    "     #       average_chr_mat[i1,i2] = np.mean(chr_mat2[i1:i1+6,i2:i2+6])\n",
    "    def vec_of_dist(matrix, x):\n",
    "        return([matrix[i,i+x] for i in range(matrix.shape[1]-x)])\n",
    "\n",
    "    highVSlow_corr_list = []\n",
    "    highVSenhanced_corr_list = []\n",
    "    highVSaverage_corr_list = []\n",
    "    for dist in range(100):\n",
    "        low_res_vec = vec_of_dist(chr_mat, dist)\n",
    "        high_res_vec = vec_of_dist(high_chr_mat, dist)\n",
    "        enhanced_vec = vec_of_dist(enhanced_chr_mat, dist)\n",
    "        #average_vec = vec_of_dist(average_chr_mat, dist)\n",
    "        highVSlow_corr_list.append(spearmanr(low_res_vec, high_res_vec)[0])\n",
    "        #highVSaverage_corr_list.append(spearmanr(average_vec, high_res_vec)[0])\n",
    "        highVSenhanced_corr_list.append(spearmanr(high_res_vec, enhanced_vec)[0])\n",
    "    plt.plot(highVSlow_corr_list, label = \"highVSlow\")\n",
    "    plt.plot(highVSenhanced_corr_list, label = \"highVSenhanced\")\n",
    "    #plt.plot(highVSaverage_corr_list, label = \"highVSaverage\")\n",
    "    plt.legend(loc='upper right', prop={'size': 5})\n",
    "    plt.show()\n",
    "    "
   ]
  },
  {
   "cell_type": "code",
   "execution_count": 71,
   "metadata": {},
   "outputs": [
    {
     "data": {
      "text/plain": [
       "<matplotlib.image.AxesImage at 0x1a26213a90>"
      ]
     },
     "execution_count": 71,
     "metadata": {},
     "output_type": "execute_result"
    },
    {
     "data": {
      "image/png": "[encoded data removed]",
      "text/plain": [
       "<Figure size 288x288 with 1 Axes>"
      ]
     },
     "metadata": {
      "needs_background": "light"
     },
     "output_type": "display_data"
    },
    {
     "data": {
      "image/png": "[encoded data removed]",
      "text/plain": [
       "<Figure size 288x288 with 1 Axes>"
      ]
     },
     "metadata": {
      "needs_background": "light"
     },
     "output_type": "display_data"
    },
    {
     "data": {
      "image/png": "[encoded data removed]",
      "text/plain": [
       "<Figure size 288x288 with 1 Axes>"
      ]
     },
     "metadata": {
      "needs_background": "light"
     },
     "output_type": "display_data"
    }
   ],
   "source": [
    "lb=2200\n",
    "ub = 2210\n",
    "plt.matshow(chr_mat[lb:ub,lb:ub])\n",
    "plt.matshow(enhanced_chr_mat[lb:ub,lb:ub])\n",
    "plt.matshow(high_chr_mat[lb:ub,lb:ub])"
   ]
  },
  {
   "cell_type": "code",
   "execution_count": 68,
   "metadata": {},
   "outputs": [
    {
     "name": "stdout",
     "output_type": "stream",
     "text": [
      "[[ 5  6  1  4  3  0  2  5  2  2]\n",
      " [ 6  6  5  2  4  3  1  2  7  2]\n",
      " [ 1  5  3 12  3  1  3  1  2  3]\n",
      " [ 4  2 12  3  9  5  4  2  5  6]\n",
      " [ 3  4  3  9  5  7  6  9  0  0]\n",
      " [ 0  3  1  5  7  4  0  5  1  2]\n",
      " [ 2  1  3  4  6  0  6  2  3  0]\n",
      " [ 5  2  1  2  9  5  2  4  4  2]\n",
      " [ 2  7  2  5  0  1  3  4  4  2]\n",
      " [ 2  2  3  6  0  2  0  2  2  7]]\n",
      "[[19 18 15 11  9  8  8  9  9  7]\n",
      " [18 20 21 17 14 11 11 10 10  9]\n",
      " [15 21 22 22 20 16 14 12 12 10]\n",
      " [11 17 22 24 23 21 18 14 12 10]\n",
      " [ 9 14 20 23 24 22 19 16 13 11]\n",
      " [ 8 11 16 21 22 23 19 17 12 10]\n",
      " [ 8 11 14 18 19 19 18 17 14 10]\n",
      " [ 9 10 12 14 16 17 17 15 14 11]\n",
      " [ 9 10 12 12 13 12 14 14 15 14]\n",
      " [ 7  9 10 10 11 10 10 11 14 16]]\n",
      "[[25 36  6  8  9  6  9 14  8  9]\n",
      " [36 46 24 29 17 20  5 24 16  9]\n",
      " [ 6 24 33 38 13  7 20  9 11  7]\n",
      " [ 8 29 38 23 30 21 14 15 16  8]\n",
      " [ 9 17 13 30 29 32 13 22  3  5]\n",
      " [ 6 20  7 21 32 29 19 16 13 13]\n",
      " [ 9  5 20 14 13 19 40 26 14  6]\n",
      " [14 24  9 15 22 16 26 30 41 13]\n",
      " [ 8 16 11 16  3 13 14 41 31 25]\n",
      " [ 9  9  7  8  5 13  6 13 25 31]]\n"
     ]
    }
   ],
   "source": [
    "lb=3200\n",
    "ub = 3210\n",
    "print(chr_mat[lb:ub,lb:ub])\n",
    "print(enhanced_chr_mat[lb:ub,lb:ub])\n",
    "print(high_chr_mat[lb:ub,lb:ub])"
   ]
  },
  {
   "cell_type": "code",
   "execution_count": 69,
   "metadata": {},
   "outputs": [
    {
     "name": "stdout",
     "output_type": "stream",
     "text": [
      "16.705687654209267\n",
      "8.717224328879004\n",
      "2.5019992006393608\n",
      "17.923727290940352\n"
     ]
    }
   ],
   "source": [
    "def rmse(predictions, targets):\n",
    "    return np.sqrt(((predictions - targets) ** 2).mean())\n",
    "print(rmse(chr_mat[lb:ub,lb:ub].flatten(), high_chr_mat[lb:ub,lb:ub].flatten()))\n",
    "print(rmse(high_chr_mat[lb:ub,lb:ub].flatten(), enhanced_chr_mat[lb:ub,lb:ub].flatten()))\n",
    "print(rmse(chr_mat[lb:ub,lb:ub].flatten(), average_chr_mat[lb:ub,lb:ub].flatten()))\n",
    "print(rmse(high_chr_mat[lb:ub,lb:ub].flatten(), average_chr_mat[lb:ub,lb:ub].flatten()))"
   ]
  },
  {
   "cell_type": "code",
   "execution_count": 70,
   "metadata": {},
   "outputs": [
    {
     "data": {
      "image/png": "[encoded data removed]",
      "text/plain": [
       "<Figure size 432x288 with 1 Axes>"
      ]
     },
     "metadata": {
      "needs_background": "light"
     },
     "output_type": "display_data"
    }
   ],
   "source": [
    "for dist in range(10):\n",
    "        low_res_vec = vec_of_dist(chr_mat[lb:ub,lb:ub], dist)\n",
    "        high_res_vec = vec_of_dist(high_chr_mat[lb:ub,lb:ub], dist)\n",
    "        enhanced_vec = vec_of_dist(enhanced_chr_mat[lb:ub,lb:ub], dist)\n",
    "        #average_vec = vec_of_dist(average_chr_mat, dist)\n",
    "        highVSlow_corr_list.append(spearmanr(low_res_vec, high_res_vec)[0])\n",
    "        #highVSaverage_corr_list.append(spearmanr(average_vec, high_res_vec)[0])\n",
    "        highVSenhanced_corr_list.append(spearmanr(high_res_vec, enhanced_vec)[0])\n",
    "plt.plot(highVSlow_corr_list, label = \"highVSlow\")\n",
    "plt.plot(highVSenhanced_corr_list, label = \"highVSenhanced\")\n",
    "#plt.plot(highVSaverage_corr_list, label = \"highVSaverage\")\n",
    "plt.legend(loc='upper right', prop={'size': 5})\n",
    "plt.show()"
   ]
  },
  {
   "cell_type": "code",
   "execution_count": null,
   "metadata": {},
   "outputs": [],
   "source": []
  }
 ],
 "metadata": {
  "kernelspec": {
   "display_name": "Python 3",
   "language": "python",
   "name": "python3"
  },
  "language_info": {
   "codemirror_mode": {
    "name": "ipython",
    "version": 3
   },
   "file_extension": ".py",
   "mimetype": "text/x-python",
   "name": "python",
   "nbconvert_exporter": "python",
   "pygments_lexer": "ipython3",
   "version": "3.7.3"
  }
 },
 "nbformat": 4,
 "nbformat_minor": 2
}
