{
 "cells": [
  {
   "cell_type": "code",
   "execution_count": null,
   "metadata": {},
   "outputs": [],
   "source": [
    "import matplotlib.pyplot as plt\n",
    "\n",
    "\n",
    "def vec_of_dist(matrix, x):\n",
    "    return([matrix[i,i+x] for i in range(matrix.shape[1]-x)])\n",
    "\n",
    "def corr_plot(mat1, mat2, label_name):\n",
    "    \n",
    "    plot_bound = 100\n",
    "    corr_list = []\n",
    "    for dist in range(plot_bound):\n",
    "        mat1_vec = vec_of_dist(mat1, dist)\n",
    "        mat2_vec = vec_of_dist(mat2, dist)\n",
    "        corr_list.append(pearsonr(mat1_vec, mat2_vec)[0])\n",
    "    plt.plot(corr_list, label = label_name)\n",
    "\n",
    "   "
   ]
  }
 ],
 "metadata": {
  "kernelspec": {
   "display_name": "Python 3",
   "language": "python",
   "name": "python3"
  },
  "language_info": {
   "codemirror_mode": {
    "name": "ipython",
    "version": 3
   },
   "file_extension": ".py",
   "mimetype": "text/x-python",
   "name": "python",
   "nbconvert_exporter": "python",
   "pygments_lexer": "ipython3",
   "version": "3.7.3"
  }
 },
 "nbformat": 4,
 "nbformat_minor": 2
}
