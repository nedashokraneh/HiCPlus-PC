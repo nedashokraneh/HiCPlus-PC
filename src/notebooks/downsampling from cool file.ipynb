{
 "cells": [
  {
   "cell_type": "code",
   "execution_count": 15,
   "metadata": {},
   "outputs": [
    {
     "data": {
      "text/plain": [
       "'\\nnew_pixel = np.column_stack((high_res_cool.pixels()[:,].iloc[:,0],\\n                                  high_res_cool.pixels()[:,].iloc[:,1],\\n                                  down_sampled_counts))\\nnew_bins = high_res_cool.bins()\\ncooler.create_cooler(cool_uri = \"/Users/neda/prostate-samples/PCa13266.down-sample.cool\", bins = new_bins, pixels = new_pixel)\\n'"
      ]
     },
     "execution_count": 15,
     "metadata": {},
     "output_type": "execute_result"
    }
   ],
   "source": [
    "import os\n",
    "import sys\n",
    "#dir_path = os.path.dirname(os.path.realpath(__file__))\n",
    "dir_path = \"/Users/neda/HiCPlus_pytorch/src\"\n",
    "model_path = dir_path + \"/models\"\n",
    "utils_path = dir_path + \"/utils\"\n",
    "sys.path.insert(0, model_path)\n",
    "sys.path.insert(0, utils_path)\n",
    "import model2\n",
    "import utils\n",
    "\n",
    "import numpy as np\n",
    "import matplotlib.pyplot as plt\n",
    "import pickle\n",
    "import gzip\n",
    "from torch.utils import data\n",
    "import torch\n",
    "import torch.optim as optim\n",
    "from torch.autograd import Variable\n",
    "from time import gmtime, strftime\n",
    "import torch.nn as nn\n",
    "from scipy.stats.stats import pearsonr\n",
    "import argparse\n",
    "import cooler\n",
    "\n",
    "\n",
    "args = {\"low_res_cool_path\": \"/Users/neda/prostate-samples/PCa13266.multi-res.cool\"\n",
    "       , \"high_res_cool_path\": \"/Users/neda/prostate-samples/HighRes-PCa13266.multi-res.cool\"\n",
    "       , \"output_path\": \"/Users/neda/prostate-samples/PCa13266-down/\"\n",
    "       , \"model_path\": \"/Users/neda/HiCPlus_pytorch/src/learned-networks\"\n",
    "       , \"resolution\": \"10000\"\n",
    "       , \"model_name\": \"chr1-17-PCa13266(up-wo-min)\"\n",
    "       , \"chrN_min\": \"1\"\n",
    "       , \"chrN_max\": \"17\"\n",
    "       , \"frames_data_path\": \"/Users/neda/prostate-samples/divided-data\"\n",
    "       , \"sample_name\": \"PCa13266\"}\n",
    "\n",
    "high_res_cool = cooler.Cooler(args['high_res_cool_path'] + '::/resolutions/' + str(args['resolution']))\n",
    "p = high_res_cool.pixels()\n",
    "total_num_reads = sum(p[:,].iloc[:,2])\n",
    "low_res_cool = cooler.Cooler(args['low_res_cool_path'] + '::/resolutions/' + str(args['resolution']))\n",
    "p2 = low_res_cool.pixels()\n",
    "low_total_num_reads = sum(p2[:,].iloc[:,2])\n",
    "\n",
    "# Obs1: when we fetch a specific chromosome it means first columns belong to regions in that chromosome but \n",
    "# second column regions are through whole genome\n",
    "# Obs2: reads are not considered twice in files, for example when we fetch chr2 pixels, there are not interactions \n",
    "# between chr2 and chr1 any more. \n",
    "# Obs3: number of intra reads: 125015861, whole reads: 153752070 (in low resolution sample)\n",
    "\n",
    "vec_of_prob = []\n",
    "for chrName in high_res_cool.chromnames:\n",
    "    vec_of_prob.extend(high_res_cool.matrix(balance = False, as_pixels = True).fetch(chrName).iloc[:,2])\n",
    "num_inter_reads = total_num_reads - sum(vec_of_prob)\n",
    "vec_of_prob.append(num_inter_reads)\n",
    "vec_of_prob = [p/total_num_reads for p in vec_of_prob]\n",
    "down_sampled_counts = np.random.multinomial(low_total_num_reads, vec_of_prob)\n",
    "\n",
    "if not os.path.exists(args['output_path']):\n",
    "    os.makedirs(args['output_path'])\n",
    "\n",
    "start_ind = 0\n",
    "for chrName in high_res_cool.chromnames:\n",
    "    chr_pixel = high_res_cool.matrix(balance = False, as_pixels = True).fetch(chrName)\n",
    "    pixel_size = chr_pixel.shape[0]\n",
    "    new_pixel = np.column_stack((chr_pixel.iloc[:,0],\n",
    "                                  chr_pixel.iloc[:,1],\n",
    "                                  down_sampled_counts[start_ind:start_ind+pixel_size]))\n",
    "    start_ind = start_ind + pixel_size\n",
    "    np.savetxt(args['output_path'] + chrName + \".txt\", new_pixel)\n",
    "\n",
    "\n",
    "\"\"\"\n",
    "\n",
    "new_bins = high_res_cool.bins()\n",
    "cooler.create_cooler(cool_uri = \"/Users/neda/prostate-samples/PCa13266.down-sample.cool\", bins = new_bins, pixels = new_pixel)\n",
    "\"\"\""
   ]
  },
  {
   "cell_type": "code",
   "execution_count": 28,
   "metadata": {},
   "outputs": [
    {
     "data": {
      "text/html": [
       "<div>\n",
       "<style scoped>\n",
       "    .dataframe tbody tr th:only-of-type {\n",
       "        vertical-align: middle;\n",
       "    }\n",
       "\n",
       "    .dataframe tbody tr th {\n",
       "        vertical-align: top;\n",
       "    }\n",
       "\n",
       "    .dataframe thead th {\n",
       "        text-align: right;\n",
       "    }\n",
       "</style>\n",
       "<table border=\"1\" class=\"dataframe\">\n",
       "  <thead>\n",
       "    <tr style=\"text-align: right;\">\n",
       "      <th></th>\n",
       "      <th>bin1_id</th>\n",
       "      <th>bin2_id</th>\n",
       "      <th>count</th>\n",
       "    </tr>\n",
       "  </thead>\n",
       "  <tbody>\n",
       "    <tr>\n",
       "      <th>0</th>\n",
       "      <td>308837</td>\n",
       "      <td>308837</td>\n",
       "      <td>3618</td>\n",
       "    </tr>\n",
       "    <tr>\n",
       "      <th>1</th>\n",
       "      <td>308837</td>\n",
       "      <td>308838</td>\n",
       "      <td>8777</td>\n",
       "    </tr>\n",
       "    <tr>\n",
       "      <th>2</th>\n",
       "      <td>308838</td>\n",
       "      <td>308838</td>\n",
       "      <td>3278</td>\n",
       "    </tr>\n",
       "  </tbody>\n",
       "</table>\n",
       "</div>"
      ],
      "text/plain": [
       "   bin1_id  bin2_id  count\n",
       "0   308837   308837   3618\n",
       "1   308837   308838   8777\n",
       "2   308838   308838   3278"
      ]
     },
     "execution_count": 28,
     "metadata": {},
     "output_type": "execute_result"
    }
   ],
   "source": [
    "## make frames\n",
    "\n"
   ]
  },
  {
   "cell_type": "code",
   "execution_count": 29,
   "metadata": {},
   "outputs": [
    {
     "data": {
      "text/plain": [
       "range(11, 17)"
      ]
     },
     "execution_count": 29,
     "metadata": {},
     "output_type": "execute_result"
    }
   ],
   "source": [
    "range(11,17)"
   ]
  },
  {
   "cell_type": "code",
   "execution_count": 31,
   "metadata": {},
   "outputs": [
    {
     "name": "stdout",
     "output_type": "stream",
     "text": [
      "[11, 12, 13, 14, 15, 16]\n"
     ]
    }
   ],
   "source": [
    "a = range(11,17)\n",
    "print([i for i in a])"
   ]
  },
  {
   "cell_type": "code",
   "execution_count": 33,
   "metadata": {},
   "outputs": [
    {
     "data": {
      "text/plain": [
       "10002"
      ]
     },
     "execution_count": 33,
     "metadata": {},
     "output_type": "execute_result"
    }
   ],
   "source": [
    "int(\"10000\") + 2"
   ]
  },
  {
   "cell_type": "code",
   "execution_count": null,
   "metadata": {},
   "outputs": [],
   "source": []
  }
 ],
 "metadata": {
  "kernelspec": {
   "display_name": "Python 3",
   "language": "python",
   "name": "python3"
  },
  "language_info": {
   "codemirror_mode": {
    "name": "ipython",
    "version": 3
   },
   "file_extension": ".py",
   "mimetype": "text/x-python",
   "name": "python",
   "nbconvert_exporter": "python",
   "pygments_lexer": "ipython3",
   "version": "3.7.3"
  }
 },
 "nbformat": 4,
 "nbformat_minor": 2
}
