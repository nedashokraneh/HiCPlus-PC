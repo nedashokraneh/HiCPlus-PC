{
 "cells": [
  {
   "cell_type": "code",
   "execution_count": 3,
   "metadata": {},
   "outputs": [
    {
     "data": {
      "image/png": "[encoded data removed]",
      "text/plain": [
       "<Figure size 432x288 with 1 Axes>"
      ]
     },
     "metadata": {
      "needs_background": "light"
     },
     "output_type": "display_data"
    }
   ],
   "source": [
    "import matplotlib.pyplot as plt\n",
    "from scipy.stats.stats import pearsonr \n",
    "import cooler \n",
    "\n",
    "def vec_of_dist(matrix, x):\n",
    "    return([matrix[i,i+x] for i in range(matrix.shape[1]-x)])\n",
    "\n",
    "def corr_plot(mat1, mat2, label_name):\n",
    "    \n",
    "    plot_bound = 100\n",
    "    corr_list = []\n",
    "    for dist in range(plot_bound):\n",
    "        mat1_vec = vec_of_dist(mat1, dist)\n",
    "        mat2_vec = vec_of_dist(mat2, dist)\n",
    "        corr_list.append(pearsonr(mat1_vec, mat2_vec)[0])\n",
    "    plt.plot(corr_list, label = label_name)\n",
    "\n",
    "\n",
    "PCa13266_cool = cooler.Cooler(\"/Users/neda/prostate-samples/HighRes-PCa13266.multi-res.cool::/resolutions/10000\")\n",
    "PCa13848_cool = cooler.Cooler(\"/Users/neda/prostate-samples/HighRes-PCa13848.multi-res.cool::/resolutions/10000\")\n",
    "corr_plot(PCa13266_cool.matrix(balance = False).fetch(\"chr1\"), PCa13848_cool.matrix(balance = False).fetch(\"chr1\"), \"a\")\n",
    "plt.show()"
   ]
  },
  {
   "cell_type": "code",
   "execution_count": 7,
   "metadata": {},
   "outputs": [],
   "source": [
    "import numpy as np\n",
    "t = np.load(\"/Users/neda/prostate-samples/divided-data/RandDown2-PCa13266.npy\")\n",
    "i = np.load(\"/Users/neda/prostate-samples/divided-data/RandDown2-PCa13266-index.npy\")"
   ]
  },
  {
   "cell_type": "code",
   "execution_count": 12,
   "metadata": {},
   "outputs": [
    {
     "name": "stdout",
     "output_type": "stream",
     "text": [
      "[[0. 2. 2. ... 1. 1. 0.]\n",
      " [3. 0. 2. ... 3. 2. 2.]\n",
      " [3. 1. 3. ... 0. 2. 3.]\n",
      " ...\n",
      " [2. 5. 4. ... 1. 4. 6.]\n",
      " [5. 7. 3. ... 5. 2. 0.]\n",
      " [3. 2. 5. ... 3. 3. 5.]]\n"
     ]
    },
    {
     "data": {
      "text/plain": [
       "array([  14, 2775, 2800])"
      ]
     },
     "execution_count": 12,
     "metadata": {},
     "output_type": "execute_result"
    }
   ],
   "source": [
    "print(t[1000,])\n",
    "i[1000,]"
   ]
  },
  {
   "cell_type": "code",
   "execution_count": 9,
   "metadata": {},
   "outputs": [],
   "source": [
    "chr14_mat = PCa13266_cool.matrix(balance = False).fetch(\"chr14\")"
   ]
  },
  {
   "cell_type": "code",
   "execution_count": 10,
   "metadata": {},
   "outputs": [
    {
     "data": {
      "text/plain": [
       "array([[0, 2, 2, 2, 0],\n",
       "       [3, 0, 2, 0, 2],\n",
       "       [3, 1, 3, 1, 3],\n",
       "       [2, 0, 1, 0, 0],\n",
       "       [2, 0, 2, 3, 4]], dtype=int32)"
      ]
     },
     "execution_count": 10,
     "metadata": {},
     "output_type": "execute_result"
    }
   ],
   "source": [
    "chr14_mat[2775:2780,2800:2805]"
   ]
  },
  {
   "cell_type": "code",
   "execution_count": null,
   "metadata": {},
   "outputs": [],
   "source": []
  }
 ],
 "metadata": {
  "kernelspec": {
   "display_name": "Python 3",
   "language": "python",
   "name": "python3"
  },
  "language_info": {
   "codemirror_mode": {
    "name": "ipython",
    "version": 3
   },
   "file_extension": ".py",
   "mimetype": "text/x-python",
   "name": "python",
   "nbconvert_exporter": "python",
   "pygments_lexer": "ipython3",
   "version": "3.7.3"
  }
 },
 "nbformat": 4,
 "nbformat_minor": 2
}
