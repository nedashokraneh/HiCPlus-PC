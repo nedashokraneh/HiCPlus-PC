{
 "cells": [
  {
   "cell_type": "code",
   "execution_count": 3,
   "metadata": {},
   "outputs": [
    {
     "data": {
      "image/png": "[encoded data removed]",
      "text/plain": [
       "<Figure size 432x288 with 1 Axes>"
      ]
     },
     "metadata": {
      "needs_background": "light"
     },
     "output_type": "display_data"
    }
   ],
   "source": [
    "import numpy as np\n",
    "import os\n",
    "import matplotlib.pyplot as plt\n",
    "from scipy.stats.stats import pearsonr \n",
    "chrN = 18\n",
    "high_res_HiC_file_path = \"../data/GM12878_primary/10kb_resolution_intrachromosomal/chr\" + str(chrN) + \"/MAPQG0/chr\" + str(chrN) + \"_10kb.RAWobserved\"\n",
    "high_res_HiC_matrix_file_path = \"../data/GM12878_primary/10kb_resolution_intrachromosomal/chr\" + str(chrN) + \"/MAPQG0/chr\" + str(chrN) + \"_10kb.RAWobserved_npy_form_tmp.npy\"\n",
    "if os.path.exists(high_res_HiC_matrix_file_path):\n",
    "    high_res_HiC_matrix = np.load(high_res_HiC_matrix_file_path)\n",
    "else:\n",
    "    high_res_HiC_matrix = utils.readSquareMatrix(high_res_HiC_file_path, total_length, resolution_size)\n",
    "    \n",
    "def vec_of_dist(matrix, x):\n",
    "    return([matrix[i,i+x] for i in range(matrix.shape[1]-x)])\n",
    "\n",
    "plt.hist(vec_of_dist(high_res_HiC_matrix,6), color = 'blue', edgecolor = 'black',\n",
    "         bins = int(180/5))\n",
    "plt.show()\n"
   ]
  },
  {
   "cell_type": "code",
   "execution_count": null,
   "metadata": {},
   "outputs": [],
   "source": []
  }
 ],
 "metadata": {
  "kernelspec": {
   "display_name": "Python 3",
   "language": "python",
   "name": "python3"
  },
  "language_info": {
   "codemirror_mode": {
    "name": "ipython",
    "version": 3
   },
   "file_extension": ".py",
   "mimetype": "text/x-python",
   "name": "python",
   "nbconvert_exporter": "python",
   "pygments_lexer": "ipython3",
   "version": "3.7.3"
  }
 },
 "nbformat": 4,
 "nbformat_minor": 2
}
